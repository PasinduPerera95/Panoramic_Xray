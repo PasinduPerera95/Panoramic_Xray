{
 "cells": [
  {
   "cell_type": "code",
   "execution_count": 6,
   "metadata": {},
   "outputs": [
    {
     "data": {
      "text/plain": [
       "'4.5.2'"
      ]
     },
     "execution_count": 6,
     "metadata": {},
     "output_type": "execute_result"
    }
   ],
   "source": [
    "import cv2\n",
    "cv2.__version__"
   ]
  },
  {
   "cell_type": "code",
   "execution_count": 12,
   "metadata": {},
   "outputs": [],
   "source": [
    "import logging\n",
    "import numpy as np"
   ]
  },
  {
   "cell_type": "code",
   "execution_count": 13,
   "metadata": {},
   "outputs": [],
   "source": [
    "\n",
    "# Homomorphic filter class\n",
    "class HomomorphicFilter:\n",
    "\n",
    "\n",
    "    def __init__(self, a = 0.5, b = 1.5):\n",
    "        self.a = float(a)\n",
    "        self.b = float(b)\n",
    "\n",
    "    # Filters\n",
    "    def __butterworth_filter(self, I_shape, filter_params):\n",
    "        P = I_shape[0]/2\n",
    "        Q = I_shape[1]/2\n",
    "        U, V = np.meshgrid(range(I_shape[0]), range(I_shape[1]), sparse=False, indexing='ij')\n",
    "        Duv = (((U-P)**2+(V-Q)**2)).astype(float)\n",
    "        H = 1/(1+(Duv/filter_params[0]**2)**filter_params[1])\n",
    "        return (1 - H)\n",
    "\n",
    "    def __gaussian_filter(self, I_shape, filter_params):\n",
    "        P = I_shape[0]/2\n",
    "        Q = I_shape[1]/2\n",
    "        H = np.zeros(I_shape)\n",
    "        U, V = np.meshgrid(range(I_shape[0]), range(I_shape[1]), sparse=False, indexing='ij')\n",
    "        Duv = (((U-P)**2+(V-Q)**2)).astype(float)\n",
    "        H = np.exp((-Duv/(2*(filter_params[0])**2)))\n",
    "        return (1 - H)\n",
    "\n",
    "    # Methods\n",
    "    def __apply_filter(self, I, H):\n",
    "        H = np.fft.fftshift(H)\n",
    "        I_filtered = (self.a + self.b*H)*I\n",
    "        return I_filtered\n",
    "\n",
    "    def filter(self, I, filter_params, filter='butterworth', H = None):\n",
    "\n",
    "        #  Validating image\n",
    "        if len(I.shape) != 2:\n",
    "            raise Exception('Improper image')\n",
    "\n",
    "        # Take the image to log domain and then to frequency domain \n",
    "        I_log = np.log1p(np.array(I, dtype=\"float\"))\n",
    "        I_fft = np.fft.fft2(I_log)\n",
    "\n",
    "        # Filters\n",
    "        if filter=='butterworth':\n",
    "            H = self.__butterworth_filter(I_shape = I_fft.shape, filter_params = filter_params)\n",
    "        elif filter=='gaussian':\n",
    "            H = self.__gaussian_filter(I_shape = I_fft.shape, filter_params = filter_params)\n",
    "        elif filter=='external':\n",
    "            print('external')\n",
    "            if len(H.shape) != 2:\n",
    "                raise Exception('Invalid external filter')\n",
    "        else:\n",
    "            raise Exception('Selected filter not implemented')\n",
    "        \n",
    "        # Apply filter on frequency domain then take the image back to spatial domain\n",
    "        I_fft_filt = self.__apply_filter(I = I_fft, H = H)\n",
    "        I_filt = np.fft.ifft2(I_fft_filt)\n",
    "        I = np.exp(np.real(I_filt))-1\n",
    "        return np.uint8(I)\n",
    "# End of class HomomorphicFilter\n",
    "\n",
    "if __name__ == \"__main__\":\n",
    "    import cv2\n",
    "    # Code parameters\n",
    "    path_in = 'C:/Users/pasindu/OneDrive/Pictures/'\n",
    "    path_out = 'C:/Users/pasindu/OneDrive/Music/'\n",
    "    img_path = 'dent.jpg'\n",
    "\n",
    "    # Derived code parameters\n",
    "    img_path_in = path_in + img_path\n",
    "    img_path_out = path_out + 'dent.png'\n",
    "\n",
    "    # Main code\n",
    "    img = cv2.imread(img_path_in)[:, :, 0]\n",
    "    homo_filter = HomomorphicFilter(a = 0.75, b = 1.25)\n",
    "    img_filtered = homo_filter.filter(I=img, filter_params=[30,2])\n",
    "    cv2.imwrite(img_path_out, img_filtered)"
   ]
  },
  {
   "cell_type": "code",
   "execution_count": 17,
   "metadata": {},
   "outputs": [
    {
     "ename": "error",
     "evalue": "OpenCV(4.5.2) :-1: error: (-5:Bad argument) in function 'morphologyEx'\n> Overload resolution failed:\n>  - src is not a numpy array, neither a scalar\n>  - Expected Ptr<cv::UMat> for argument 'src'\n",
     "output_type": "error",
     "traceback": [
      "\u001b[1;31m---------------------------------------------------------------------------\u001b[0m",
      "\u001b[1;31merror\u001b[0m                                     Traceback (most recent call last)",
      "\u001b[1;32m<ipython-input-17-ca5774c5b25e>\u001b[0m in \u001b[0;36m<module>\u001b[1;34m\u001b[0m\n\u001b[0;32m      2\u001b[0m \u001b[1;31m#closing = cv.morphologyEx(img, cv.MORPH_CLOSE, kernel)\u001b[0m\u001b[1;33m\u001b[0m\u001b[1;33m\u001b[0m\u001b[1;33m\u001b[0m\u001b[0m\n\u001b[0;32m      3\u001b[0m \u001b[0mkernel\u001b[0m \u001b[1;33m=\u001b[0m \u001b[0mnp\u001b[0m\u001b[1;33m.\u001b[0m\u001b[0mones\u001b[0m\u001b[1;33m(\u001b[0m\u001b[1;33m(\u001b[0m\u001b[1;36m5\u001b[0m\u001b[1;33m,\u001b[0m\u001b[1;36m5\u001b[0m\u001b[1;33m)\u001b[0m\u001b[1;33m,\u001b[0m\u001b[0mnp\u001b[0m\u001b[1;33m.\u001b[0m\u001b[0muint8\u001b[0m\u001b[1;33m)\u001b[0m\u001b[1;33m\u001b[0m\u001b[1;33m\u001b[0m\u001b[0m\n\u001b[1;32m----> 4\u001b[1;33m \u001b[0mclosing\u001b[0m \u001b[1;33m=\u001b[0m \u001b[0mcv2\u001b[0m\u001b[1;33m.\u001b[0m\u001b[0mmorphologyEx\u001b[0m\u001b[1;33m(\u001b[0m\u001b[0mimg_path_out\u001b[0m\u001b[1;33m,\u001b[0m \u001b[0mcv2\u001b[0m\u001b[1;33m.\u001b[0m\u001b[0mMORPH_CLOSE\u001b[0m\u001b[1;33m,\u001b[0m \u001b[0mkernel\u001b[0m\u001b[1;33m)\u001b[0m\u001b[1;33m\u001b[0m\u001b[1;33m\u001b[0m\u001b[0m\n\u001b[0m\u001b[0;32m      5\u001b[0m \u001b[0mcv2\u001b[0m\u001b[1;33m.\u001b[0m\u001b[0mimshow\u001b[0m\u001b[1;33m(\u001b[0m\u001b[1;34m'Grayscale'\u001b[0m\u001b[1;33m,\u001b[0m\u001b[0mclosing\u001b[0m\u001b[1;33m)\u001b[0m\u001b[1;33m\u001b[0m\u001b[1;33m\u001b[0m\u001b[0m\n\u001b[0;32m      6\u001b[0m \u001b[0mcv2\u001b[0m\u001b[1;33m.\u001b[0m\u001b[0mwaitKey\u001b[0m\u001b[1;33m(\u001b[0m\u001b[1;33m)\u001b[0m\u001b[1;33m\u001b[0m\u001b[1;33m\u001b[0m\u001b[0m\n",
      "\u001b[1;31merror\u001b[0m: OpenCV(4.5.2) :-1: error: (-5:Bad argument) in function 'morphologyEx'\n> Overload resolution failed:\n>  - src is not a numpy array, neither a scalar\n>  - Expected Ptr<cv::UMat> for argument 'src'\n"
     ]
    }
   ],
   "source": [
    "#Closing operation of morphological operation\n",
    "#closing = cv.morphologyEx(img, cv.MORPH_CLOSE, kernel)\n",
    "kernel = np.ones((5,5),np.uint8)\n",
    "closing = cv2.morphologyEx(img_path_out, cv2.MORPH_CLOSE, kernel)\n",
    "cv2.imshow('Grayscale',closing)\n",
    "cv2.waitKey()\n",
    "cv2.destroyAllWindows()"
   ]
  },
  {
   "cell_type": "code",
   "execution_count": null,
   "metadata": {},
   "outputs": [],
   "source": []
  }
 ],
 "metadata": {
  "kernelspec": {
   "display_name": "Python 3",
   "language": "python",
   "name": "python3"
  },
  "language_info": {
   "codemirror_mode": {
    "name": "ipython",
    "version": 3
   },
   "file_extension": ".py",
   "mimetype": "text/x-python",
   "name": "python",
   "nbconvert_exporter": "python",
   "pygments_lexer": "ipython3",
   "version": "3.8.5"
  }
 },
 "nbformat": 4,
 "nbformat_minor": 4
}
