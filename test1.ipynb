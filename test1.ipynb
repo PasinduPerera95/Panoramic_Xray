{
 "cells": [
  {
   "cell_type": "code",
   "execution_count": 1,
   "metadata": {},
   "outputs": [],
   "source": [
    "import numpy as np\n",
    "import cv2"
   ]
  },
  {
   "cell_type": "code",
   "execution_count": 2,
   "metadata": {},
   "outputs": [],
   "source": [
    "input = cv2.imread('C:/Users/pasindu/OneDrive/Pictures/vijju.png')\n",
    "cv2.imshow('hello',input)\n",
    "cv2.waitKey(0)\n",
    "#Pictures\n",
    "cv2.destroyAllWindows()"
   ]
  },
  {
   "cell_type": "code",
   "execution_count": 3,
   "metadata": {},
   "outputs": [],
   "source": [
    "#it carrier fair..\n",
    "#C:\\Users\\pasindu\\Music\\it\n",
    "input = cv2.imread('C:/Users/pasindu/Music/it/2.jpeg')\n",
    "cv2.imshow('hello',input)\n",
    "dim = (853,1280)\n",
    "resized = cv2.resize(input, dim, interpolation = cv2.INTER_AREA)\n",
    "cv2.imwrite('C:/Users/pasindu/Music/it/2setted.jpeg', resized)\n",
    "cv2.imshow('hi',resized)\n",
    "cv2.waitKey(0)\n",
    "#Pictures\n",
    "cv2.destroyAllWindows()"
   ]
  },
  {
   "cell_type": "code",
   "execution_count": 4,
   "metadata": {},
   "outputs": [],
   "source": [
    "#it carrier fair..\n",
    "#C:\\Users\\pasindu\\Music\\it\n",
    "input = cv2.imread('C:/Users/pasindu/Music/it/1.jpeg')\n",
    "cv2.imshow('hello',input)\n",
    "cv2.waitKey(0)\n",
    "#Pictures\n",
    "cv2.destroyAllWindows()"
   ]
  },
  {
   "cell_type": "code",
   "execution_count": 11,
   "metadata": {},
   "outputs": [
    {
     "data": {
      "text/plain": [
       "(1280, 853, 3)"
      ]
     },
     "execution_count": 11,
     "metadata": {},
     "output_type": "execute_result"
    }
   ],
   "source": [
    "input.shape"
   ]
  },
  {
   "cell_type": "code",
   "execution_count": 3,
   "metadata": {},
   "outputs": [],
   "source": [
    "#gray Scale image..\n",
    "gray_image = cv2.cvtColor(input, cv2.COLOR_BGR2GRAY)\n",
    "cv2.imshow('Grayscale',gray_image)\n",
    "cv2.waitKey()\n",
    "cv2.destroyAllWindows()"
   ]
  },
  {
   "cell_type": "code",
   "execution_count": 4,
   "metadata": {},
   "outputs": [
    {
     "name": "stdout",
     "output_type": "stream",
     "text": [
      "880 1345\n",
      "(880, 1345)\n"
     ]
    }
   ],
   "source": [
    "height = gray_image.shape[0]\n",
    "width = gray_image.shape[1]\n",
    "print(height,width)\n",
    "print(gray_image.shape)"
   ]
  },
  {
   "cell_type": "code",
   "execution_count": 5,
   "metadata": {},
   "outputs": [
    {
     "name": "stdout",
     "output_type": "stream",
     "text": [
      "1183600\n"
     ]
    }
   ],
   "source": [
    "print(gray_image.size)"
   ]
  },
  {
   "cell_type": "code",
   "execution_count": 6,
   "metadata": {},
   "outputs": [
    {
     "name": "stdout",
     "output_type": "stream",
     "text": [
      "<class 'numpy.ndarray'>\n"
     ]
    }
   ],
   "source": [
    "#gray intencity values...\n",
    "from PIL import Image\n",
    "import numpy as np\n",
    "import cv2\n",
    "import matplotlib.image as mpimg\n",
    "import matplotlib.pyplot as plt\n",
    "new_img = gray_image\n",
    "print(type(new_img))"
   ]
  },
  {
   "cell_type": "code",
   "execution_count": 34,
   "metadata": {},
   "outputs": [],
   "source": [
    "#contrast stretching process\n",
    "from PIL import Image\n",
    "import cv2\n",
    "import numpy as np\n",
    "\n",
    "img = cv2.imread('C:/Users/pasindu/Music/in/dent.jpg')\n",
    "original = img.copy()\n",
    "xp = [0, 64, 128, 192, 255]\n",
    "fp = [0, 16, 128, 240, 255]\n",
    "x = np.arange(256)\n",
    "table = np.interp(x, xp, fp).astype('uint8')\n",
    "img = cv2.LUT(img, table)\n",
    "cv2.imshow(\"original\", original)\n",
    "cv2.imshow(\"Output\", img)\n",
    "cv2.waitKey(0)\n",
    "cv2.destroyAllWindows() "
   ]
  },
  {
   "cell_type": "code",
   "execution_count": null,
   "metadata": {},
   "outputs": [],
   "source": []
  },
  {
   "cell_type": "code",
   "execution_count": 36,
   "metadata": {},
   "outputs": [
    {
     "data": {
      "image/png": "[encoded data removed]",
      "text/plain": [
       "<Figure size 432x288 with 1 Axes>"
      ]
     },
     "metadata": {
      "needs_background": "light"
     },
     "output_type": "display_data"
    }
   ],
   "source": [
    "import numpy as np\n",
    "import cv2 as cv\n",
    "from matplotlib import pyplot as plt\n",
    "img = cv.imread(\"C:/Users/pasindu/Music/in/fuck.jpg\",0)\n",
    "plt.hist(img.ravel(),256,[0,256]); plt.show()"
   ]
  },
  {
   "cell_type": "code",
   "execution_count": null,
   "metadata": {},
   "outputs": [],
   "source": []
  },
  {
   "cell_type": "code",
   "execution_count": 37,
   "metadata": {},
   "outputs": [
    {
     "ename": "AttributeError",
     "evalue": "module 'cv2.cv2' has no attribute 'ximgproc'",
     "output_type": "error",
     "traceback": [
      "\u001b[1;31m---------------------------------------------------------------------------\u001b[0m",
      "\u001b[1;31mAttributeError\u001b[0m                            Traceback (most recent call last)",
      "\u001b[1;32m<ipython-input-37-40db67322cee>\u001b[0m in \u001b[0;36m<module>\u001b[1;34m\u001b[0m\n\u001b[0;32m      1\u001b[0m \u001b[1;31m#ridge filter....\u001b[0m\u001b[1;33m\u001b[0m\u001b[1;33m\u001b[0m\u001b[1;33m\u001b[0m\u001b[0m\n\u001b[0;32m      2\u001b[0m \u001b[1;31m#image = cv2.imread('C:/Users/pasindu/Music/in/fuck.jpg')\u001b[0m\u001b[1;33m\u001b[0m\u001b[1;33m\u001b[0m\u001b[1;33m\u001b[0m\u001b[0m\n\u001b[1;32m----> 3\u001b[1;33m \u001b[0mridge_filter\u001b[0m \u001b[1;33m=\u001b[0m \u001b[0mcv2\u001b[0m\u001b[1;33m.\u001b[0m\u001b[0mximgproc\u001b[0m\u001b[1;33m.\u001b[0m\u001b[0mRidgeDetectionFilter_create\u001b[0m\u001b[1;33m(\u001b[0m\u001b[1;33m)\u001b[0m\u001b[1;33m\u001b[0m\u001b[1;33m\u001b[0m\u001b[0m\n\u001b[0m\u001b[0;32m      4\u001b[0m \u001b[0mridges\u001b[0m \u001b[1;33m=\u001b[0m \u001b[0mridge_filter\u001b[0m\u001b[1;33m.\u001b[0m\u001b[0mgetRidgeFilteredImage\u001b[0m\u001b[1;33m(\u001b[0m\u001b[0mimage\u001b[0m\u001b[1;33m)\u001b[0m\u001b[1;33m\u001b[0m\u001b[1;33m\u001b[0m\u001b[0m\n",
      "\u001b[1;31mAttributeError\u001b[0m: module 'cv2.cv2' has no attribute 'ximgproc'"
     ]
    }
   ],
   "source": [
    "#ridge filter....\n",
    "#image = cv2.imread('C:/Users/pasindu/Music/in/fuck.jpg')\n",
    "ridge_filter = cv2.ximgproc.RidgeDetectionFilter_create()\n",
    "ridges = ridge_filter.getRidgeFilteredImage(image)"
   ]
  },
  {
   "cell_type": "code",
   "execution_count": 38,
   "metadata": {},
   "outputs": [
    {
     "data": {
      "image/png": "[encoded data removed]",
      "text/plain": [
       "<Figure size 432x288 with 1 Axes>"
      ]
     },
     "metadata": {
      "needs_background": "light"
     },
     "output_type": "display_data"
    }
   ],
   "source": [
    "import matplotlib.pyplot as plt\n",
    "plt.hist(x=image.ravel(), bins=256, range=[0, 256], color='crimson')\n",
    "plt.title(\"Histogram Showing Pixel Intensities And Counts\", color='crimson')\n",
    "plt.ylabel(\"Number Of Pixels Belonging To The Pixel Intensity\", color=\"crimson\")\n",
    "plt.xlabel(\"Pixel Intensity\", color=\"crimson\")\n",
    "plt.show()\n"
   ]
  },
  {
   "cell_type": "markdown",
   "metadata": {},
   "source": [
    "## jaw seperation"
   ]
  },
  {
   "cell_type": "code",
   "execution_count": 1,
   "metadata": {
    "scrolled": true
   },
   "outputs": [
    {
     "name": "stdout",
     "output_type": "stream",
     "text": [
      "original image diamention : (827, 1568, 3)\n",
      "Lower 380.0 upper413.0\n",
      "1568\n",
      "8\n"
     ]
    },
    {
     "name": "stderr",
     "output_type": "stream",
     "text": [
      "<ipython-input-1-efae4fc861f3>:168: RuntimeWarning: overflow encountered in ubyte_scalars\n",
      "  val = abs(image[x,y]-image[x-1,y])\n"
     ]
    },
    {
     "data": {
      "image/png": "[encoded data removed]",
      "text/plain": [
       "<Figure size 432x288 with 1 Axes>"
      ]
     },
     "metadata": {
      "needs_background": "light"
     },
     "output_type": "display_data"
    },
    {
     "name": "stdout",
     "output_type": "stream",
     "text": [
      "diamention of image 827  1568\n",
      "diamention of line 827  1568\n"
     ]
    },
    {
     "data": {
      "text/plain": [
       "<function destroyAllWindows>"
      ]
     },
     "execution_count": 1,
     "metadata": {},
     "output_type": "execute_result"
    }
   ],
   "source": [
    "import cv2\n",
    "import numpy as np\n",
    "from matplotlib import pyplot as plt\n",
    "import numpy\n",
    "from scipy.optimize import curve_fit\n",
    "import sklearn\n",
    "from sklearn.linear_model import LinearRegression\n",
    "from sklearn.preprocessing import PolynomialFeatures\n",
    "import openpyxl \n",
    "import os\n",
    "import glob\n",
    "import pandas as pd\n",
    "\n",
    "def removeOutliers(arr):\n",
    "    upper = np.percentile(arr, 65, axis =0)\n",
    "    lower = np.percentile(arr, 35, axis =0)\n",
    "    return lower,upper\n",
    "\n",
    "\n",
    "def jaws():\n",
    "\n",
    "    #Get hight and width\n",
    "    height = image.shape[0]\n",
    "    width = image.shape[1]\n",
    "    # print (height)\n",
    "    # print (width)\n",
    "\n",
    "    numofiterates = int(((height - 400)/20)+1)\n",
    "    K = [0]*numofiterates\n",
    "    xaxis = [0]*numofiterates\n",
    "    iterate = 0\n",
    "\n",
    "    for x in range(100,height-300,20):\n",
    "        # print (iterate)\n",
    "        xaxis[iterate] = iterate + 1          \n",
    "                \n",
    "        for a in range(x,x+100,1):\n",
    "            for i in range(width):\n",
    "                val = image[a,i]\n",
    "                if(i < (width/2)):\n",
    "                    original[a,i] = [0, 255, 255]\n",
    "\n",
    "                    if(val < 100):\n",
    "                        # image[a+1,i] = 0\n",
    "                        K[iterate] += 1\n",
    "\n",
    "                    if(i%5 == 0):\n",
    "                        a = a + 1    \n",
    "                else:\n",
    "                    original[a,i] = [0, 0, 255]\n",
    "                    if(val < 100):\n",
    "                        # image[a+1,i] = 0\n",
    "                        K[iterate] += 1\n",
    "\n",
    "                    if(i%5 == 0):\n",
    "                        a = a - 1\n",
    "\n",
    "        iterate+=1               \n",
    "\n",
    "    # for a in range(0,height-200,100):\n",
    "    #         for i in range(width):\n",
    "    #             if(i < (width/2)):\n",
    "    #                 for x in range(a,a+100,2):\n",
    "    #                     original[x,i] = [0, 255, 255]\n",
    "    #             else:\n",
    "    #                 for x in range(a+100,a,-2): \n",
    "    #                     original[x,i] = [0, 0, 255]\n",
    "\n",
    "    ind = K.index(max(K))\n",
    "    x = [0]*max(K)\n",
    "    y = [0]*max(K) \n",
    "    count = 0\n",
    "    row1 = 1\n",
    "    row2 = 1\n",
    "    column = 1\n",
    "    sums = []\n",
    "\n",
    "    \n",
    "    for i in range((100+(ind*20)),(100+(ind*20))+100,1):\n",
    "        for j in range(width):\n",
    "            val = image[i,j]\n",
    "            if(j < (width/2)):\n",
    "                if(val < 100):\n",
    "                    image[i,j] = 0\n",
    "                    x[count] = j\n",
    "                    y[count] = i\n",
    "                    count+=1\n",
    "                if(j%5 == 0):\n",
    "                    i = i + 1\n",
    "\n",
    "            else: \n",
    "                if(val < 100):\n",
    "                    image[i,j] = 0\n",
    "                    x[count] = j\n",
    "                    y[count] = i\n",
    "                        \n",
    "                    count+=1\n",
    "                if(j%5 == 0):\n",
    "                    i = i - 1  \n",
    "                    \n",
    "    selectedpoints = []\n",
    "    widthpos = []\n",
    "    selected = []\n",
    "\n",
    "    for i in range(width):\n",
    "        linesum = []\n",
    "        for cot in range(count):\n",
    "            if(x[cot] == i):\n",
    "                linesum.append(y[cot])\n",
    "        if(len(linesum)>0):\n",
    "            # line[linesum[int(len(linesum)/2)],i] = [0 , 0 , 255 ]\n",
    "            selectedpoints.append(linesum[int(len(linesum)/2)])\n",
    "            widthpos.append(i)\n",
    "            selected.append(i)\n",
    "        else:\n",
    "            selectedpoints.append(selectedpoints[i-1])\n",
    "            widthpos.append(i)\n",
    "    # print(selectedpoints)\n",
    "    \n",
    "    arr = np.array(selectedpoints)\n",
    "    previous = arr[0]\n",
    "    lower,upper = removeOutliers(selectedpoints)\n",
    "    # print(\"width \"+str(width))\n",
    "    # print(\"arr length \"+str(len(arr)))\n",
    "    # print(\"selectedpoints length \"+str(len(selectedpoints)))\n",
    "    # print(\"widthpos length \"+str(len(widthpos)))\n",
    "    print(\"Lower \"+str(lower)+\" upper\"+str(upper))\n",
    "\n",
    "    # for x in range(width-1):\n",
    "    #     if(arr[x]<lower):\n",
    "    #         arr[x] == lower\n",
    "    #     elif(arr[x]>upper):\n",
    "    #         arr[x] == upper  \n",
    "\n",
    "    linepoints = []\n",
    "\n",
    "    for x in range(width):\n",
    "\n",
    "        # line[selectedpoints[x],widthpos[x]] = [255 , 0 , 0 ]\n",
    "        if(abs(previous - arr[x]) > 4):\n",
    "            if(x < (width/2)):\n",
    "                if(widthpos[x]%5 == 0):\n",
    "                    previous = previous + 1\n",
    "                line[previous,widthpos[x]] = [0 , 255 , 0 ]\n",
    "                line[previous+1,widthpos[x]] = [0 , 255 , 0 ]\n",
    "                line[previous-1,widthpos[x]] = [0 , 255 , 0 ]\n",
    "                selectedpoints[x] = 0\n",
    "            else:\n",
    "                if(widthpos[x]%5 == 0):\n",
    "                    previous = previous - 1\n",
    "                line[previous,widthpos[x]] = [0 , 255 , 0 ]\n",
    "                line[previous+1,widthpos[x]] = [0 , 255 , 0 ]\n",
    "                line[previous-1,widthpos[x]] = [0 , 255 , 0 ]\n",
    "                selectedpoints[x] = 0\n",
    "            linepoints.append(previous)\n",
    "            previous = arr[x] \n",
    "        else:\n",
    "            previous = arr[x]\n",
    "            line[arr[x],widthpos[x]] = [0 , 0 , 255 ]\n",
    "            line[arr[x]+1,widthpos[x]] = [0 , 0 , 255 ]\n",
    "            line[arr[x]-1,widthpos[x]] = [0 , 0 , 255 ] \n",
    "            linepoints.append(arr[x])  \n",
    "\n",
    "    print(str(len(linepoints)))\n",
    "\n",
    "    for y in range(width):\n",
    "        for x in range(linepoints[y],100,-1):\n",
    "            val = abs(image[x,y]-image[x-1,y])\n",
    "            if(val > 100):\n",
    "                line[x,y] = [255 , 0 , 0 ]\n",
    "                line[x+1,y] = [255 , 0 , 0 ]\n",
    "                line[x-1,y] = [255 , 0 , 0 ]\n",
    "                break\n",
    "                \n",
    "\n",
    "\n",
    "    # for x in range(len(widthpos)-1):\n",
    "    #     if(abs(arr[x+1] - arr[x]) > 5):\n",
    "    #         selectedpoints[x] = 0\n",
    "    #     else:\n",
    "    #        line[selectedpoints[x],widthpos[x]] = [0 , 255 , 0 ]            \n",
    "\n",
    "\n",
    "    # for i in range(width):\n",
    "    #     print(len(sums[i]))\n",
    "        # if(len(sums[i])>0):\n",
    "        #     mid = int(len(sums[i])/2)\n",
    "        #     image[sums[i][mid],i] = 255\n",
    "\n",
    "    # # plt.axis([0, width, 0, height])\n",
    "    # plt.title('selected points') \n",
    "    # plt.imshow(image, extent=[0, width, 0, height])\n",
    "    # plt.plot(x, y)\n",
    "    # # plt.show()\n",
    "        \n",
    "\n",
    "    print(ind)\n",
    "\n",
    "    ymax = int(max(K)) + 5000\n",
    "    plt.axis([0, numofiterates, 0, ymax])\n",
    "    plt.title('Selecting the separation area') \n",
    "    plt.xlabel('Number of iteration')\n",
    "    plt.ylabel('Number of dark pixels')\n",
    "    # plt.imshow(image, extent=[0, width, 0, height])\n",
    "    plt.plot(xaxis, K)\n",
    "    plt.show()\n",
    "\n",
    "    # cv2.namedWindow('Original',0)\n",
    "    # cv2.resizeWindow('Original', width*2, height*2)\n",
    "    # cv2.imshow('Original', original)\n",
    "    # directory = r'E:\\Level 4\\Dental\\VS\\FYP\\line'\n",
    "    # os.chdir(directory) \n",
    "\n",
    "    # filename = str(img)\n",
    "    # # # print(filename)\n",
    "    # cv2.imwrite(filename, line)  \n",
    "\n",
    "    # directory = r'E:\\Level 4\\Dental\\VS\\FYP\\Enhanced'\n",
    "    # os.chdir(directory) \n",
    "\n",
    "    cv2.namedWindow('Image',0)\n",
    "    cv2.resizeWindow('Image', width*2, height*2)\n",
    "    cv2.imshow('Image', image)\n",
    "    cv2.imwrite('C:/Users/pasindu/Music/out/33.jpg', image)\n",
    "    cv2.waitKey(0) \n",
    "    print('diamention of image '+str(image.shape[0])+ \"  \" + str(image.shape[1]))\n",
    "\n",
    "    cv2.namedWindow('Line',0)\n",
    "    cv2.resizeWindow('Line', width, height)\n",
    "    cv2.imshow('Line', line)\n",
    "    cv2.imwrite('C:/Users/pasindu/Music/out/line.jpg', line)\n",
    "    cv2.waitKey(0)\n",
    "    print('diamention of line '+str(line.shape[0])+ \"  \"+ str(line.shape[1]))\n",
    "\n",
    "if __name__ == '__main__':\n",
    "    #C:\\Users\\pasindu\\Music\\out\n",
    "    directory = r'C:\\Users\\pasindu\\Downloads\\Music\\Final year project'\n",
    "    os.chdir(directory)\n",
    "    # Read image\n",
    "    original = cv2.imread('D-501-18_34Y_M.jpg')\n",
    "    print('original image diamention :',original.shape)\n",
    "    \n",
    "    ###\n",
    "    #success, original,image = cap.read()\n",
    "    \n",
    "    ####\n",
    "    line = original.copy()\n",
    "    image = cv2.cvtColor(original, cv2.COLOR_BGR2GRAY)\n",
    "    img = image.copy()\n",
    "    jaws()\n",
    "    # for img in glob.glob(\"*.jpg\"):\n",
    "    #     print (img)\n",
    "    #     # Read image\n",
    "    #     original = cv2.imread(img)\n",
    "    #     line = original.copy()\n",
    "    #     image = cv2.cvtColor(original, cv2.COLOR_BGR2GRAY)\n",
    "    #     jaws()\n",
    "\n",
    "cv2.destroyAllWindows"
   ]
  },
  {
   "cell_type": "code",
   "execution_count": null,
   "metadata": {},
   "outputs": [],
   "source": []
  }
 ],
 "metadata": {
  "kernelspec": {
   "display_name": "Python 3",
   "language": "python",
   "name": "python3"
  },
  "language_info": {
   "codemirror_mode": {
    "name": "ipython",
    "version": 3
   },
   "file_extension": ".py",
   "mimetype": "text/x-python",
   "name": "python",
   "nbconvert_exporter": "python",
   "pygments_lexer": "ipython3",
   "version": "3.8.5"
  }
 },
 "nbformat": 4,
 "nbformat_minor": 4
}
